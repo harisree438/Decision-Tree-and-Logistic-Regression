{
 "cells": [
  {
   "cell_type": "code",
   "execution_count": 1,
   "id": "969dc71d-20f7-4833-b86e-e302d39d84cd",
   "metadata": {},
   "outputs": [
    {
     "name": "stdout",
     "output_type": "stream",
     "text": [
      "Decision Tree Rules:\n",
      " |--- petal length (cm) <= 2.45\n",
      "|   |--- class: 0\n",
      "|--- petal length (cm) >  2.45\n",
      "|   |--- petal length (cm) <= 4.75\n",
      "|   |   |--- petal width (cm) <= 1.65\n",
      "|   |   |   |--- class: 1\n",
      "|   |   |--- petal width (cm) >  1.65\n",
      "|   |   |   |--- class: 2\n",
      "|   |--- petal length (cm) >  4.75\n",
      "|   |   |--- petal width (cm) <= 1.75\n",
      "|   |   |   |--- petal length (cm) <= 4.95\n",
      "|   |   |   |   |--- class: 1\n",
      "|   |   |   |--- petal length (cm) >  4.95\n",
      "|   |   |   |   |--- petal width (cm) <= 1.55\n",
      "|   |   |   |   |   |--- class: 2\n",
      "|   |   |   |   |--- petal width (cm) >  1.55\n",
      "|   |   |   |   |   |--- sepal length (cm) <= 6.95\n",
      "|   |   |   |   |   |   |--- class: 1\n",
      "|   |   |   |   |   |--- sepal length (cm) >  6.95\n",
      "|   |   |   |   |   |   |--- class: 2\n",
      "|   |   |--- petal width (cm) >  1.75\n",
      "|   |   |   |--- petal length (cm) <= 4.85\n",
      "|   |   |   |   |--- sepal length (cm) <= 5.95\n",
      "|   |   |   |   |   |--- class: 1\n",
      "|   |   |   |   |--- sepal length (cm) >  5.95\n",
      "|   |   |   |   |   |--- class: 2\n",
      "|   |   |   |--- petal length (cm) >  4.85\n",
      "|   |   |   |   |--- class: 2\n",
      "\n",
      "Confusion Matrix:\n",
      " [[10  0  0]\n",
      " [ 0  9  0]\n",
      " [ 0  0 11]]\n",
      "\n",
      "Classification Report:\n",
      "               precision    recall  f1-score   support\n",
      "\n",
      "           0       1.00      1.00      1.00        10\n",
      "           1       1.00      1.00      1.00         9\n",
      "           2       1.00      1.00      1.00        11\n",
      "\n",
      "    accuracy                           1.00        30\n",
      "   macro avg       1.00      1.00      1.00        30\n",
      "weighted avg       1.00      1.00      1.00        30\n",
      "\n"
     ]
    }
   ],
   "source": [
    "# Import necessary libraries\n",
    "from sklearn.datasets import load_iris\n",
    "from sklearn.model_selection import train_test_split\n",
    "from sklearn.tree import DecisionTreeClassifier, export_text\n",
    "from sklearn import metrics\n",
    "\n",
    "# Load the Iris dataset\n",
    "iris = load_iris()\n",
    "X = iris.data\n",
    "y = iris.target\n",
    "\n",
    "# Split the dataset into training and testing sets\n",
    "X_train, X_test, y_train, y_test = train_test_split(X, y, test_size=0.2, random_state=42)\n",
    "\n",
    "# Create a decision tree classifier\n",
    "clf = DecisionTreeClassifier()\n",
    "\n",
    "# Train the classifier on the training data\n",
    "clf.fit(X_train, y_train)\n",
    "\n",
    "# Print the decision tree\n",
    "tree_rules = export_text(clf, feature_names=iris.feature_names)\n",
    "print(\"Decision Tree Rules:\\n\", tree_rules)\n",
    "\n",
    "# Make predictions on the test set\n",
    "y_pred = clf.predict(X_test)\n",
    "\n",
    "# Print the confusion matrix and classification report\n",
    "confusion_matrix = metrics.confusion_matrix(y_test, y_pred)\n",
    "classification_report = metrics.classification_report(y_test, y_pred)\n",
    "\n",
    "print(\"Confusion Matrix:\\n\", confusion_matrix)\n",
    "print(\"\\nClassification Report:\\n\", classification_report)\n"
   ]
  },
  {
   "cell_type": "code",
   "execution_count": 2,
   "id": "a69d9e4d-c05c-49c7-82ea-190c26ef970f",
   "metadata": {},
   "outputs": [
    {
     "name": "stdout",
     "output_type": "stream",
     "text": [
      "Overall Accuracy for all Folds: [0.96666667 1.         0.93333333 0.96666667 1.        ]\n",
      "\n",
      "Confusion Matrix:\n",
      " [[10  0  0]\n",
      " [ 0  9  0]\n",
      " [ 0  0 11]]\n",
      "\n",
      "Classification Report:\n",
      "               precision    recall  f1-score   support\n",
      "\n",
      "           0       1.00      1.00      1.00        10\n",
      "           1       1.00      1.00      1.00         9\n",
      "           2       1.00      1.00      1.00        11\n",
      "\n",
      "    accuracy                           1.00        30\n",
      "   macro avg       1.00      1.00      1.00        30\n",
      "weighted avg       1.00      1.00      1.00        30\n",
      "\n"
     ]
    }
   ],
   "source": [
    "# Import necessary libraries\n",
    "from sklearn.datasets import load_iris\n",
    "from sklearn.model_selection import cross_val_predict, cross_val_score, train_test_split\n",
    "from sklearn.linear_model import LogisticRegression\n",
    "from sklearn import metrics\n",
    "\n",
    "# Load the Iris dataset\n",
    "iris = load_iris()\n",
    "X = iris.data\n",
    "y = iris.target\n",
    "\n",
    "# Split the dataset into training and testing sets\n",
    "X_train, X_test, y_train, y_test = train_test_split(X, y, test_size=0.2, random_state=42)\n",
    "\n",
    "# Create a logistic regression classifier\n",
    "clf = LogisticRegression(max_iter=1000)\n",
    "\n",
    "# Perform 5-fold cross-validation and get predicted labels\n",
    "y_pred_cv = cross_val_predict(clf, X, y, cv=5)\n",
    "\n",
    "# Print overall accuracy for all folds\n",
    "accuracy_cv = cross_val_score(clf, X, y, cv=5, scoring='accuracy')\n",
    "print(\"Overall Accuracy for all Folds:\", accuracy_cv)\n",
    "\n",
    "# Evaluate the best model (train on the entire dataset and test on the test set)\n",
    "clf.fit(X_train, y_train)\n",
    "y_pred = clf.predict(X_test)\n",
    "\n",
    "# Print confusion matrix and classification report for the best model\n",
    "confusion_matrix = metrics.confusion_matrix(y_test, y_pred)\n",
    "classification_report = metrics.classification_report(y_test, y_pred)\n",
    "\n",
    "print(\"\\nConfusion Matrix:\\n\", confusion_matrix)\n",
    "print(\"\\nClassification Report:\\n\", classification_report)\n"
   ]
  },
  {
   "cell_type": "code",
   "execution_count": null,
   "id": "8625e774-0500-4b47-91fb-e56cfa2d37e4",
   "metadata": {},
   "outputs": [],
   "source": [
    "#QUESTION 3"
   ]
  },
  {
   "cell_type": "code",
   "execution_count": 3,
   "id": "65c43cbf-df31-4d43-b1d4-b1dbcbf36def",
   "metadata": {},
   "outputs": [
    {
     "name": "stdout",
     "output_type": "stream",
     "text": [
      "Overall Accuracy for all Folds (Logistic Regression): [0.96666667 1.         0.93333333 0.96666667 1.        ]\n"
     ]
    }
   ],
   "source": [
    "# Perform 5-fold cross-validation and get predicted labels\n",
    "y_pred_cv = cross_val_predict(clf, X, y, cv=5)\n",
    "\n",
    "# Print overall accuracy for all folds\n",
    "accuracy_cv = cross_val_score(clf, X, y, cv=5, scoring='accuracy')\n",
    "print(\"Overall Accuracy for all Folds (Logistic Regression):\", accuracy_cv)\n"
   ]
  },
  {
   "cell_type": "code",
   "execution_count": null,
   "id": "b6a27884-ebc6-4475-afda-1abc25356da2",
   "metadata": {},
   "outputs": [],
   "source": [
    "#In cross-validation, Decision Tree accuracies may vary due to its sensitivity to specific data subsets, while Logistic Regression offers more\n",
    "#consistent fold accuracies. The overall accuracy mean of Decision Trees could be influenced by variability, potentially limiting its representation\n",
    "#of performance on unseen data, whereas Logistic Regression's mean accuracy provides a stable indicator of generalization. Decision Trees, capturing \n",
    "#complex patterns, may overfit, while Logistic Regression's simplicity allows for better generalization, and confusion matrices aid in evaluating\n",
    "#precision, recall, and F1-score for each class in both models.\n",
    "\n",
    "\n",
    "\n",
    "#Logistic Regression model exhibits a consistent performance across the 5-fold cross-validation on the Iris dataset. With accuracy ranging\n",
    "# from 93.33% to 100% across different subsets .The accuracy values for each fold in the 5-fold cross-validation using Logistic Regression\n",
    "# are Fold 1: 96.67%\n",
    "# Fold 2: 100%\n",
    "# Fold 3: 93.33%\n",
    "# Fold 4: 96.67%\n",
    "# Fold 5: 100%\n",
    "#This consistency suggests that the Logistic Regression model is performing well across different subsets of the data.This consistency suggests\n",
    "# a good generalization capability, indicating that the model is not overfitting to specific examples."
   ]
  }
 ],
 "metadata": {
  "kernelspec": {
   "display_name": "Python 3 (ipykernel)",
   "language": "python",
   "name": "python3"
  },
  "language_info": {
   "codemirror_mode": {
    "name": "ipython",
    "version": 3
   },
   "file_extension": ".py",
   "mimetype": "text/x-python",
   "name": "python",
   "nbconvert_exporter": "python",
   "pygments_lexer": "ipython3",
   "version": "3.11.4"
  }
 },
 "nbformat": 4,
 "nbformat_minor": 5
}
